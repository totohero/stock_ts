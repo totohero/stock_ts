{
 "cells": [
  {
   "cell_type": "code",
   "execution_count": null,
   "metadata": {},
   "outputs": [
    {
     "ename": "",
     "evalue": "",
     "output_type": "error",
     "traceback": [
      "\u001b[1;31mCannot execute code, session has been disposed. Please try restarting the Kernel."
     ]
    },
    {
     "ename": "",
     "evalue": "",
     "output_type": "error",
     "traceback": [
      "\u001b[1;31mThe Kernel crashed while executing code in the the current cell or a previous cell. Please review the code in the cell(s) to identify a possible cause of the failure. Click <a href='https://aka.ms/vscodeJupyterKernelCrash'>here</a> for more info. View Jupyter <a href='command:jupyter.viewOutput'>log</a> for further details."
     ]
    }
   ],
   "source": [
    "import sqlite3\n",
    "import pandas as pd\n",
    "import matplotlib.pyplot as plt\n",
    "\n",
    "# Connect to the SQLite database\n",
    "conn = sqlite3.connect('stock_prices.db')\n",
    "\n",
    "# Read the DataFrame from the SQLite database\n",
    "df = pd.read_sql('SELECT * FROM prices', conn)\n",
    "\n",
    "# Convert date to datetime and set it as index\n",
    "df['date'] = pd.to_datetime(df['date'])\n",
    "# 2022년 이후로만 필터링 (처리 속도)\n",
    "# df = df[df['date'] > '2023-01-01']\n",
    "\n",
    "df.set_index('date', inplace=True)\n",
    "\n",
    "# Remove rows where 'open' or 'close' is zero\n",
    "df = df[(df['open'] != 0) & (df['close'] != 0) & (df['high'] != 0) & (df['low'] != 0) & (df['volume'] != 0)]\n",
    "df_ticker = df.groupby('ticker')\n",
    "\n",
    "# 가정: df는 'open', 'high', 'low'와 'close' 컬럼을 가진 데이터프레임이며, \n",
    "# 각 행은 하루의 시가(open), 최고가(high), 최저가(low)와 종가(close)를 나타냅니다.\n",
    "\n",
    "df['prev_close'] = df['close'].shift(1)  # 이전 행의 'close' 값을 가져옵니다.\n",
    "df['open_change'] = (df['open'] - df['prev_close']) / df['prev_close']\n",
    "df['high_change'] = 100*(df['high'] - df['open']) / df['open']\n",
    "df['low_change'] = 100*(df['low'] - df['open']) / df['open']\n",
    "\n",
    "# 전날 종가 대비 당일 시가가 5% 이상 하락한 날들을 선택합니다.\n",
    "df_significant_drop = df[df['open_change'] <= -0.05]\n",
    "\n",
    "# 당일 시가 대비 최고가와 최저가의 변화율의 히스토그램을 그립니다.\n",
    "df_significant_drop['high_change'].hist(bins=100, alpha=0.3, label='High Change', edgecolor='black', range=(-30, 30))\n",
    "df_significant_drop['low_change'].hist(bins=100, alpha=0.3, label='Low Change', edgecolor='black', range=(-30, 30))\n",
    "plt.title('Distribution of High and Low Change on Days with >3% Open Drop')\n",
    "plt.xlabel('Change')\n",
    "plt.ylabel('Frequency')\n",
    "plt.legend(loc='upper right')\n",
    "plt.show()\n",
    "\n",
    "# print table of distribution of High and Low Change on Days with >3% Open Drop with binning applied\n",
    "import numpy as np\n",
    "\n",
    "# -2에서 2 사이의 high_change와 low_change를 제외합니다.\n",
    "filtered_df = df_significant_drop\n",
    "\n",
    "# 빈의 경계를 정의합니다. 여기서는 예를 들어 -30에서 30 사이에 100개의 빈을 사용합니다.\n",
    "bins = np.linspace(-30, 30, 101)\n",
    "\n",
    "# high_change와 low_change를 빈으로 나눕니다.\n",
    "filtered_df['high_change_bin'] = pd.cut(filtered_df['high_change'], bins)\n",
    "filtered_df['low_change_bin'] = pd.cut(filtered_df['low_change'], bins)\n",
    "\n",
    "# 피벗 테이블을 사용하여 빈도를 계산합니다.\n",
    "frequency_table = pd.pivot_table(filtered_df, index='low_change_bin', columns='high_change_bin', values='open', aggfunc='count', fill_value=0)\n",
    "\n",
    "# 표를 출력합니다.\n",
    "print(frequency_table)"
   ]
  }
 ],
 "metadata": {
  "kernelspec": {
   "display_name": "Python 3 (ipykernel)",
   "language": "python",
   "name": "python3"
  },
  "language_info": {
   "codemirror_mode": {
    "name": "ipython",
    "version": 3
   },
   "file_extension": ".py",
   "mimetype": "text/x-python",
   "name": "python",
   "nbconvert_exporter": "python",
   "pygments_lexer": "ipython3",
   "version": "3.10.8"
  },
  "orig_nbformat": 4
 },
 "nbformat": 4,
 "nbformat_minor": 2
}
